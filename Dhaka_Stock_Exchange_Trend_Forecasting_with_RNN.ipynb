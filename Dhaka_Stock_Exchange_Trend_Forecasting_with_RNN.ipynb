{
  "nbformat": 4,
  "nbformat_minor": 0,
  "metadata": {
    "colab": {
      "provenance": []
    },
    "kernelspec": {
      "name": "python3",
      "display_name": "Python 3"
    }
  },
  "cells": [
    {
      "cell_type": "markdown",
      "metadata": {
        "id": "xpAuMVCwfWs8"
      },
      "source": [
        "# Recurrent Neural Network"
      ]
    },
    {
      "cell_type": "markdown",
      "metadata": {
        "id": "nxJfRe4bfYVA"
      },
      "source": [
        "## Part 1 - Data Preprocessing"
      ]
    },
    {
      "cell_type": "markdown",
      "metadata": {
        "id": "ir9zwETrfbrp"
      },
      "source": [
        "### Importing the libraries"
      ]
    },
    {
      "cell_type": "code",
      "metadata": {
        "id": "ZT1f24vHffuf"
      },
      "source": [
        "import numpy as np\n",
        "import matplotlib.pyplot as plt\n",
        "import pandas as pd"
      ],
      "execution_count": null,
      "outputs": []
    },
    {
      "cell_type": "markdown",
      "metadata": {
        "id": "nQ47JAxrgmaL"
      },
      "source": [
        "### Importing the training set"
      ]
    },
    {
      "cell_type": "code",
      "metadata": {
        "id": "1xiv3pJOgqY3"
      },
      "source": [
        "dataset_train = pd.read_excel('train.xlsx')"
      ],
      "execution_count": null,
      "outputs": []
    },
    {
      "cell_type": "code",
      "source": [
        "dataset_train.head(1)"
      ],
      "metadata": {
        "colab": {
          "base_uri": "https://localhost:8080/",
          "height": 81
        },
        "id": "88EiS5WmEDV6",
        "outputId": "85b9a3a9-6204-4267-8075-a83615d7f674"
      },
      "execution_count": null,
      "outputs": [
        {
          "output_type": "execute_result",
          "data": {
            "text/plain": [
              "        Date    Price     Open     High      Low  Vol.  Change %\n",
              "0 2013-01-30  4126.75  4126.75  4126.75  4126.75   NaN   -0.0067"
            ],
            "text/html": [
              "\n",
              "  <div id=\"df-70d2f185-3149-4ff5-a8f3-38c740fa95f3\">\n",
              "    <div class=\"colab-df-container\">\n",
              "      <div>\n",
              "<style scoped>\n",
              "    .dataframe tbody tr th:only-of-type {\n",
              "        vertical-align: middle;\n",
              "    }\n",
              "\n",
              "    .dataframe tbody tr th {\n",
              "        vertical-align: top;\n",
              "    }\n",
              "\n",
              "    .dataframe thead th {\n",
              "        text-align: right;\n",
              "    }\n",
              "</style>\n",
              "<table border=\"1\" class=\"dataframe\">\n",
              "  <thead>\n",
              "    <tr style=\"text-align: right;\">\n",
              "      <th></th>\n",
              "      <th>Date</th>\n",
              "      <th>Price</th>\n",
              "      <th>Open</th>\n",
              "      <th>High</th>\n",
              "      <th>Low</th>\n",
              "      <th>Vol.</th>\n",
              "      <th>Change %</th>\n",
              "    </tr>\n",
              "  </thead>\n",
              "  <tbody>\n",
              "    <tr>\n",
              "      <th>0</th>\n",
              "      <td>2013-01-30</td>\n",
              "      <td>4126.75</td>\n",
              "      <td>4126.75</td>\n",
              "      <td>4126.75</td>\n",
              "      <td>4126.75</td>\n",
              "      <td>NaN</td>\n",
              "      <td>-0.0067</td>\n",
              "    </tr>\n",
              "  </tbody>\n",
              "</table>\n",
              "</div>\n",
              "      <button class=\"colab-df-convert\" onclick=\"convertToInteractive('df-70d2f185-3149-4ff5-a8f3-38c740fa95f3')\"\n",
              "              title=\"Convert this dataframe to an interactive table.\"\n",
              "              style=\"display:none;\">\n",
              "        \n",
              "  <svg xmlns=\"http://www.w3.org/2000/svg\" height=\"24px\"viewBox=\"0 0 24 24\"\n",
              "       width=\"24px\">\n",
              "    <path d=\"M0 0h24v24H0V0z\" fill=\"none\"/>\n",
              "    <path d=\"M18.56 5.44l.94 2.06.94-2.06 2.06-.94-2.06-.94-.94-2.06-.94 2.06-2.06.94zm-11 1L8.5 8.5l.94-2.06 2.06-.94-2.06-.94L8.5 2.5l-.94 2.06-2.06.94zm10 10l.94 2.06.94-2.06 2.06-.94-2.06-.94-.94-2.06-.94 2.06-2.06.94z\"/><path d=\"M17.41 7.96l-1.37-1.37c-.4-.4-.92-.59-1.43-.59-.52 0-1.04.2-1.43.59L10.3 9.45l-7.72 7.72c-.78.78-.78 2.05 0 2.83L4 21.41c.39.39.9.59 1.41.59.51 0 1.02-.2 1.41-.59l7.78-7.78 2.81-2.81c.8-.78.8-2.07 0-2.86zM5.41 20L4 18.59l7.72-7.72 1.47 1.35L5.41 20z\"/>\n",
              "  </svg>\n",
              "      </button>\n",
              "      \n",
              "  <style>\n",
              "    .colab-df-container {\n",
              "      display:flex;\n",
              "      flex-wrap:wrap;\n",
              "      gap: 12px;\n",
              "    }\n",
              "\n",
              "    .colab-df-convert {\n",
              "      background-color: #E8F0FE;\n",
              "      border: none;\n",
              "      border-radius: 50%;\n",
              "      cursor: pointer;\n",
              "      display: none;\n",
              "      fill: #1967D2;\n",
              "      height: 32px;\n",
              "      padding: 0 0 0 0;\n",
              "      width: 32px;\n",
              "    }\n",
              "\n",
              "    .colab-df-convert:hover {\n",
              "      background-color: #E2EBFA;\n",
              "      box-shadow: 0px 1px 2px rgba(60, 64, 67, 0.3), 0px 1px 3px 1px rgba(60, 64, 67, 0.15);\n",
              "      fill: #174EA6;\n",
              "    }\n",
              "\n",
              "    [theme=dark] .colab-df-convert {\n",
              "      background-color: #3B4455;\n",
              "      fill: #D2E3FC;\n",
              "    }\n",
              "\n",
              "    [theme=dark] .colab-df-convert:hover {\n",
              "      background-color: #434B5C;\n",
              "      box-shadow: 0px 1px 3px 1px rgba(0, 0, 0, 0.15);\n",
              "      filter: drop-shadow(0px 1px 2px rgba(0, 0, 0, 0.3));\n",
              "      fill: #FFFFFF;\n",
              "    }\n",
              "  </style>\n",
              "\n",
              "      <script>\n",
              "        const buttonEl =\n",
              "          document.querySelector('#df-70d2f185-3149-4ff5-a8f3-38c740fa95f3 button.colab-df-convert');\n",
              "        buttonEl.style.display =\n",
              "          google.colab.kernel.accessAllowed ? 'block' : 'none';\n",
              "\n",
              "        async function convertToInteractive(key) {\n",
              "          const element = document.querySelector('#df-70d2f185-3149-4ff5-a8f3-38c740fa95f3');\n",
              "          const dataTable =\n",
              "            await google.colab.kernel.invokeFunction('convertToInteractive',\n",
              "                                                     [key], {});\n",
              "          if (!dataTable) return;\n",
              "\n",
              "          const docLinkHtml = 'Like what you see? Visit the ' +\n",
              "            '<a target=\"_blank\" href=https://colab.research.google.com/notebooks/data_table.ipynb>data table notebook</a>'\n",
              "            + ' to learn more about interactive tables.';\n",
              "          element.innerHTML = '';\n",
              "          dataTable['output_type'] = 'display_data';\n",
              "          await google.colab.output.renderOutput(dataTable, element);\n",
              "          const docLink = document.createElement('div');\n",
              "          docLink.innerHTML = docLinkHtml;\n",
              "          element.appendChild(docLink);\n",
              "        }\n",
              "      </script>\n",
              "    </div>\n",
              "  </div>\n",
              "  "
            ]
          },
          "metadata": {},
          "execution_count": 3
        }
      ]
    },
    {
      "cell_type": "code",
      "source": [
        "dataset_train.drop(['Vol.'], axis = 1, inplace = True)"
      ],
      "metadata": {
        "id": "VsT7wThbEZ0e"
      },
      "execution_count": null,
      "outputs": []
    },
    {
      "cell_type": "code",
      "source": [
        "dataset_train.head"
      ],
      "metadata": {
        "colab": {
          "base_uri": "https://localhost:8080/"
        },
        "id": "cFw32loIEjxm",
        "outputId": "b2dc0972-f841-4cb7-aa3e-6d1c60948d85"
      },
      "execution_count": null,
      "outputs": [
        {
          "output_type": "execute_result",
          "data": {
            "text/plain": [
              "<bound method NDFrame.head of            Date    Price     Open     High      Low  Change %\n",
              "0    2013-01-30  4126.75  4126.75  4126.75  4126.75   -0.0067\n",
              "1    2013-01-31  4136.30  4136.30  4136.30  4136.30    0.0023\n",
              "2    2013-02-03  4163.82  4163.82  4163.82  4163.82    0.0067\n",
              "3    2013-02-04  4164.62  4164.62  4164.62  4164.62    0.0002\n",
              "4    2013-02-05  4191.50  4191.50  4191.50  4191.50    0.0065\n",
              "...         ...      ...      ...      ...      ...       ...\n",
              "2316 2022-11-24  6215.12  6215.12  6215.12  6215.12    0.0012\n",
              "2317 2022-11-28  6197.94  6197.94  6197.94  6197.94   -0.0028\n",
              "2318 2022-11-29  6212.46  6212.46  6212.46  6212.46    0.0023\n",
              "2319 2022-11-30  6235.95  6235.95  6235.95  6235.95    0.0038\n",
              "2320 2022-12-01  6245.38  6245.38  6245.38  6245.38    0.0015\n",
              "\n",
              "[2321 rows x 6 columns]>"
            ]
          },
          "metadata": {},
          "execution_count": 5
        }
      ]
    },
    {
      "cell_type": "code",
      "source": [
        "dataset_train.dtypes"
      ],
      "metadata": {
        "colab": {
          "base_uri": "https://localhost:8080/"
        },
        "id": "jgvCx2P6GVJT",
        "outputId": "eaf05b6d-6739-4004-c960-2703cf8d129a"
      },
      "execution_count": null,
      "outputs": [
        {
          "output_type": "execute_result",
          "data": {
            "text/plain": [
              "Date        datetime64[ns]\n",
              "Price              float64\n",
              "Open               float64\n",
              "High               float64\n",
              "Low                float64\n",
              "Change %           float64\n",
              "dtype: object"
            ]
          },
          "metadata": {},
          "execution_count": 6
        }
      ]
    },
    {
      "cell_type": "code",
      "source": [
        "training_set = dataset_train.iloc[:, 2:3].values\n",
        "\n",
        "## NEURAL NETWORKS ONLY WORK WITH NUMPY ARRAYS"
      ],
      "metadata": {
        "id": "BTenCS9lECNY"
      },
      "execution_count": null,
      "outputs": []
    },
    {
      "cell_type": "code",
      "source": [
        "print(training_set)"
      ],
      "metadata": {
        "colab": {
          "base_uri": "https://localhost:8080/"
        },
        "id": "d4ObbI5SFGyC",
        "outputId": "a9be608d-9c39-44d8-9b73-faaf81e5729c"
      },
      "execution_count": null,
      "outputs": [
        {
          "output_type": "stream",
          "name": "stdout",
          "text": [
            "[[4126.75]\n",
            " [4136.3 ]\n",
            " [4163.82]\n",
            " ...\n",
            " [6212.46]\n",
            " [6235.95]\n",
            " [6245.38]]\n"
          ]
        }
      ]
    },
    {
      "cell_type": "code",
      "source": [
        "print(len(training_set))"
      ],
      "metadata": {
        "colab": {
          "base_uri": "https://localhost:8080/"
        },
        "id": "ofbv433YlMAc",
        "outputId": "c035f835-afa5-48ae-a568-945aa725f737"
      },
      "execution_count": null,
      "outputs": [
        {
          "output_type": "stream",
          "name": "stdout",
          "text": [
            "2321\n"
          ]
        }
      ]
    },
    {
      "cell_type": "markdown",
      "metadata": {
        "id": "HT8_2UJegtG5"
      },
      "source": [
        "### Feature Scaling"
      ]
    },
    {
      "cell_type": "code",
      "metadata": {
        "id": "OTrF2kR7gx9x"
      },
      "source": [
        "from sklearn.preprocessing import MinMaxScaler\n",
        "sc = MinMaxScaler(feature_range = (0, 1))  ##normalization##\n",
        "training_set_scaled = sc.fit_transform(training_set)"
      ],
      "execution_count": null,
      "outputs": []
    },
    {
      "cell_type": "code",
      "source": [
        "print(len(training_set_scaled))"
      ],
      "metadata": {
        "colab": {
          "base_uri": "https://localhost:8080/"
        },
        "id": "j6v0K-PAj95L",
        "outputId": "c5f24593-8439-4490-c978-cb9a2f45aac6"
      },
      "execution_count": null,
      "outputs": [
        {
          "output_type": "stream",
          "name": "stdout",
          "text": [
            "2321\n"
          ]
        }
      ]
    },
    {
      "cell_type": "markdown",
      "metadata": {
        "id": "JyYgYocqhNUg"
      },
      "source": [
        "### Creating a data structure with 60 timesteps and 1 output"
      ]
    },
    {
      "cell_type": "code",
      "metadata": {
        "id": "iofU21B0i6ST"
      },
      "source": [
        "X_train = []\n",
        "y_train = []\n",
        "## 60 = how many ovservation for next day preddiction\n",
        "## 1258 = last index of training set\n",
        "for i in range (60, 2321):\n",
        "    X_train.append(training_set_scaled[i-60:i, 0]) ## i-60:i = rows, 0=column  [upper bound excluded]\n",
        "    y_train.append(training_set_scaled[i, 0])\n",
        "X_train, y_train = np.array(X_train), np.array(y_train)  #convert to numpy arrays from lists"
      ],
      "execution_count": null,
      "outputs": []
    },
    {
      "cell_type": "markdown",
      "metadata": {
        "id": "D8yaN7Zvi95l"
      },
      "source": [
        "### Reshaping"
      ]
    },
    {
      "cell_type": "markdown",
      "source": [
        "np.reshape\n",
        "\n",
        "          (\n",
        "    the array we want to reshape, (the new dimensions= batch size, timesteps, indicators)  \n",
        "          )"
      ],
      "metadata": {
        "id": "8h9vrV_9m47n"
      }
    },
    {
      "cell_type": "markdown",
      "source": [
        "X_train.shape[0] means all observations/indices/rows of the training set\n",
        "\n",
        "X_train.shape[1] means all timesteps/columns of the training set\n",
        "\n",
        "1 = number of indicators"
      ],
      "metadata": {
        "id": "aQHIapemsj5x"
      }
    },
    {
      "cell_type": "code",
      "metadata": {
        "id": "FOXqJHmNjBkz"
      },
      "source": [
        "X_train = np.reshape(X_train, (X_train.shape[0], X_train.shape[1], 1))"
      ],
      "execution_count": null,
      "outputs": []
    },
    {
      "cell_type": "markdown",
      "metadata": {
        "id": "ZRRSOJeVjEWV"
      },
      "source": [
        "## Part 2 - Building and Training the RNN"
      ]
    },
    {
      "cell_type": "markdown",
      "metadata": {
        "id": "k4XV88JMjHXG"
      },
      "source": [
        "### Importing the Keras libraries and packages"
      ]
    },
    {
      "cell_type": "code",
      "metadata": {
        "id": "9JRnqsxEjKsD"
      },
      "source": [
        "from keras.models import Sequential\n",
        "from keras.layers import Dense\n",
        "from keras.layers import LSTM\n",
        "from keras.layers import Dropout"
      ],
      "execution_count": null,
      "outputs": []
    },
    {
      "cell_type": "markdown",
      "metadata": {
        "id": "FEIE-1s9jNzC"
      },
      "source": [
        "### Initialising the RNN"
      ]
    },
    {
      "cell_type": "code",
      "metadata": {
        "id": "1338dJ0UjRKH"
      },
      "source": [
        "regressor = Sequential()"
      ],
      "execution_count": null,
      "outputs": []
    },
    {
      "cell_type": "markdown",
      "metadata": {
        "id": "62eg1OPGjT8z"
      },
      "source": [
        "### Adding the first LSTM layer and some Dropout regularisation"
      ]
    },
    {
      "cell_type": "markdown",
      "source": [
        "LSTM\n",
        "      \n",
        "      (\n",
        "      units = NEURONS/LSTM cells\n",
        "      return_sequences = true when we will add a next lstm layer\n",
        "      input_shape = (Timesteps, Indicators) for first layer only\n",
        "      )"
      ],
      "metadata": {
        "id": "Dq8LnuXKvamh"
      }
    },
    {
      "cell_type": "code",
      "metadata": {
        "id": "2hIinyXUjbVU"
      },
      "source": [
        "regressor.add(LSTM(units = 60, return_sequences = True, input_shape = (X_train.shape[1], 1)))\n",
        "regressor.add(Dropout(0.2))"
      ],
      "execution_count": null,
      "outputs": []
    },
    {
      "cell_type": "markdown",
      "metadata": {
        "id": "3XBIYLyOjlMx"
      },
      "source": [
        "### Adding a second LSTM layer and some Dropout regularisation"
      ]
    },
    {
      "cell_type": "code",
      "metadata": {
        "id": "UG7nrVaSjuZ2"
      },
      "source": [
        "regressor.add(LSTM(units = 60, return_sequences = True))\n",
        "regressor.add(Dropout(0.2))"
      ],
      "execution_count": null,
      "outputs": []
    },
    {
      "cell_type": "markdown",
      "metadata": {
        "id": "Ey3fHVnGj1cu"
      },
      "source": [
        "### Adding a third LSTM layer and some Dropout regularisation"
      ]
    },
    {
      "cell_type": "code",
      "metadata": {
        "id": "PuNi6PgFj7jO"
      },
      "source": [
        "regressor.add(LSTM(units = 60, return_sequences = True))\n",
        "regressor.add(Dropout(0.2))"
      ],
      "execution_count": null,
      "outputs": []
    },
    {
      "cell_type": "markdown",
      "metadata": {
        "id": "SYTrtfTmj933"
      },
      "source": [
        "### Adding a fourth LSTM layer and some Dropout regularisation"
      ]
    },
    {
      "cell_type": "code",
      "metadata": {
        "id": "Jp4Ty8fRkBYV"
      },
      "source": [
        "regressor.add(LSTM(units = 60))\n",
        "regressor.add(Dropout(0.2))"
      ],
      "execution_count": null,
      "outputs": []
    },
    {
      "cell_type": "markdown",
      "metadata": {
        "id": "9ABI6rOIkHhk"
      },
      "source": [
        "### Adding the output layer"
      ]
    },
    {
      "cell_type": "code",
      "metadata": {
        "id": "aM6R1z4WkME8"
      },
      "source": [
        "regressor.add(Dense(units = 1))"
      ],
      "execution_count": null,
      "outputs": []
    },
    {
      "cell_type": "markdown",
      "metadata": {
        "id": "zLx4K7uUkPSh"
      },
      "source": [
        "### Compiling the RNN"
      ]
    },
    {
      "cell_type": "code",
      "metadata": {
        "id": "XTrhVN-tkbko"
      },
      "source": [
        "regressor.compile(optimizer = 'adam', loss = 'mean_squared_error')"
      ],
      "execution_count": null,
      "outputs": []
    },
    {
      "cell_type": "markdown",
      "metadata": {
        "id": "-mPhwKGkkebi"
      },
      "source": [
        "### Fitting the RNN to the Training set"
      ]
    },
    {
      "cell_type": "code",
      "source": [
        "print(X_train.shape)"
      ],
      "metadata": {
        "colab": {
          "base_uri": "https://localhost:8080/"
        },
        "id": "S-iuhvN740fY",
        "outputId": "5c623528-3770-4495-dab8-846a8694322b"
      },
      "execution_count": null,
      "outputs": [
        {
          "output_type": "stream",
          "name": "stdout",
          "text": [
            "(2261, 60, 1)\n"
          ]
        }
      ]
    },
    {
      "cell_type": "code",
      "metadata": {
        "id": "I06Nkrz5kkb-",
        "colab": {
          "base_uri": "https://localhost:8080/"
        },
        "outputId": "0d941e43-5226-4ca3-eef2-9c7020b5d657"
      },
      "source": [
        "regressor.fit(X_train, y_train, epochs = 50, batch_size = 32)"
      ],
      "execution_count": null,
      "outputs": [
        {
          "output_type": "stream",
          "name": "stdout",
          "text": [
            "Epoch 1/50\n",
            "71/71 [==============================] - 13s 101ms/step - loss: 0.0189\n",
            "Epoch 2/50\n",
            "71/71 [==============================] - 7s 100ms/step - loss: 0.0043\n",
            "Epoch 3/50\n",
            "71/71 [==============================] - 7s 100ms/step - loss: 0.0040\n",
            "Epoch 4/50\n",
            "71/71 [==============================] - 7s 101ms/step - loss: 0.0033\n",
            "Epoch 5/50\n",
            "71/71 [==============================] - 7s 100ms/step - loss: 0.0031\n",
            "Epoch 6/50\n",
            "71/71 [==============================] - 8s 114ms/step - loss: 0.0034\n",
            "Epoch 7/50\n",
            "71/71 [==============================] - 7s 103ms/step - loss: 0.0031\n",
            "Epoch 8/50\n",
            "71/71 [==============================] - 7s 102ms/step - loss: 0.0029\n",
            "Epoch 9/50\n",
            "71/71 [==============================] - 7s 102ms/step - loss: 0.0025\n",
            "Epoch 10/50\n",
            "71/71 [==============================] - 7s 99ms/step - loss: 0.0027\n",
            "Epoch 11/50\n",
            "71/71 [==============================] - 7s 102ms/step - loss: 0.0025\n",
            "Epoch 12/50\n",
            "71/71 [==============================] - 7s 101ms/step - loss: 0.0024\n",
            "Epoch 13/50\n",
            "71/71 [==============================] - 8s 109ms/step - loss: 0.0021\n",
            "Epoch 14/50\n",
            "71/71 [==============================] - 7s 103ms/step - loss: 0.0022\n",
            "Epoch 15/50\n",
            "71/71 [==============================] - 7s 102ms/step - loss: 0.0023\n",
            "Epoch 16/50\n",
            "71/71 [==============================] - 7s 102ms/step - loss: 0.0019\n",
            "Epoch 17/50\n",
            "71/71 [==============================] - 7s 102ms/step - loss: 0.0019\n",
            "Epoch 18/50\n",
            "71/71 [==============================] - 7s 102ms/step - loss: 0.0019\n",
            "Epoch 19/50\n",
            "71/71 [==============================] - 7s 100ms/step - loss: 0.0019\n",
            "Epoch 20/50\n",
            "71/71 [==============================] - 7s 102ms/step - loss: 0.0017\n",
            "Epoch 21/50\n",
            "71/71 [==============================] - 7s 101ms/step - loss: 0.0017\n",
            "Epoch 22/50\n",
            "71/71 [==============================] - 7s 101ms/step - loss: 0.0019\n",
            "Epoch 23/50\n",
            "71/71 [==============================] - 7s 102ms/step - loss: 0.0017\n",
            "Epoch 24/50\n",
            "71/71 [==============================] - 7s 103ms/step - loss: 0.0016\n",
            "Epoch 25/50\n",
            "71/71 [==============================] - 8s 111ms/step - loss: 0.0019\n",
            "Epoch 26/50\n",
            "71/71 [==============================] - 7s 103ms/step - loss: 0.0016\n",
            "Epoch 27/50\n",
            "71/71 [==============================] - 7s 102ms/step - loss: 0.0014\n",
            "Epoch 28/50\n",
            "71/71 [==============================] - 7s 100ms/step - loss: 0.0015\n",
            "Epoch 29/50\n",
            "71/71 [==============================] - 7s 102ms/step - loss: 0.0015\n",
            "Epoch 30/50\n",
            "71/71 [==============================] - 7s 101ms/step - loss: 0.0015\n",
            "Epoch 31/50\n",
            "71/71 [==============================] - 7s 101ms/step - loss: 0.0013\n",
            "Epoch 32/50\n",
            "71/71 [==============================] - 7s 102ms/step - loss: 0.0012\n",
            "Epoch 33/50\n",
            "71/71 [==============================] - 7s 104ms/step - loss: 0.0013\n",
            "Epoch 34/50\n",
            "71/71 [==============================] - 7s 103ms/step - loss: 0.0012\n",
            "Epoch 35/50\n",
            "71/71 [==============================] - 7s 102ms/step - loss: 0.0012\n",
            "Epoch 36/50\n",
            "71/71 [==============================] - 7s 102ms/step - loss: 0.0012\n",
            "Epoch 37/50\n",
            "71/71 [==============================] - 7s 102ms/step - loss: 0.0013\n",
            "Epoch 38/50\n",
            "71/71 [==============================] - 8s 111ms/step - loss: 0.0011\n",
            "Epoch 39/50\n",
            "71/71 [==============================] - 7s 102ms/step - loss: 0.0013\n",
            "Epoch 40/50\n",
            "71/71 [==============================] - 7s 102ms/step - loss: 0.0012\n",
            "Epoch 41/50\n",
            "71/71 [==============================] - 7s 102ms/step - loss: 0.0010\n",
            "Epoch 42/50\n",
            "71/71 [==============================] - 7s 104ms/step - loss: 0.0010\n",
            "Epoch 43/50\n",
            "71/71 [==============================] - 7s 103ms/step - loss: 9.5984e-04\n",
            "Epoch 44/50\n",
            "71/71 [==============================] - 7s 101ms/step - loss: 9.1683e-04\n",
            "Epoch 45/50\n",
            "71/71 [==============================] - 7s 101ms/step - loss: 0.0011\n",
            "Epoch 46/50\n",
            "71/71 [==============================] - 7s 101ms/step - loss: 0.0011\n",
            "Epoch 47/50\n",
            "71/71 [==============================] - 7s 100ms/step - loss: 9.7352e-04\n",
            "Epoch 48/50\n",
            "71/71 [==============================] - 7s 101ms/step - loss: 9.0204e-04\n",
            "Epoch 49/50\n",
            "71/71 [==============================] - 7s 105ms/step - loss: 8.5258e-04\n",
            "Epoch 50/50\n",
            "71/71 [==============================] - 8s 108ms/step - loss: 9.3928e-04\n"
          ]
        },
        {
          "output_type": "execute_result",
          "data": {
            "text/plain": [
              "<keras.callbacks.History at 0x7f75d1c177f0>"
            ]
          },
          "metadata": {},
          "execution_count": 28
        }
      ]
    },
    {
      "cell_type": "markdown",
      "metadata": {
        "id": "4hRau_lIkrE8"
      },
      "source": [
        "## Part 3 - Making the predictions and visualising the results"
      ]
    },
    {
      "cell_type": "markdown",
      "metadata": {
        "id": "SgJO6qEDksxD"
      },
      "source": [
        "### Getting the real stock price of 2017"
      ]
    },
    {
      "cell_type": "code",
      "metadata": {
        "id": "FmBT2zqukxTz"
      },
      "source": [
        "dataset_test = pd.read_excel('test.xlsx')\n",
        "dataset_test.drop(['Vol.'], axis = 1, inplace = True)\n",
        "real_stock_price = dataset_test.iloc[:, 2:3].values"
      ],
      "execution_count": null,
      "outputs": []
    },
    {
      "cell_type": "code",
      "source": [
        "print(len(dataset_test))"
      ],
      "metadata": {
        "colab": {
          "base_uri": "https://localhost:8080/"
        },
        "id": "2MCyctRL-N_P",
        "outputId": "ffc2d135-b90a-4e9a-c143-d99bf5aeed94"
      },
      "execution_count": null,
      "outputs": [
        {
          "output_type": "stream",
          "name": "stdout",
          "text": [
            "20\n"
          ]
        }
      ]
    },
    {
      "cell_type": "code",
      "source": [
        "print(dataset_test)"
      ],
      "metadata": {
        "colab": {
          "base_uri": "https://localhost:8080/"
        },
        "id": "Nj27HZtePGYI",
        "outputId": "166a1771-17dd-4284-b223-7c5f14ea3830"
      },
      "execution_count": null,
      "outputs": [
        {
          "output_type": "stream",
          "name": "stdout",
          "text": [
            "         Date    Price     Open     High      Low  Change %\n",
            "0  2022-12-05  6212.55  6212.55  6212.55  6212.55   -0.0053\n",
            "1  2022-12-06  6229.01  6229.01  6229.01  6229.01    0.0026\n",
            "2  2022-12-07  6233.68  6233.68  6233.68  6233.68    0.0007\n",
            "3  2022-12-08  6227.82  6227.82  6227.82  6227.82   -0.0009\n",
            "4  2022-12-12  6266.96  6266.96  6266.96  6266.96    0.0063\n",
            "5  2022-12-13  6271.41  6271.41  6271.41  6271.41    0.0007\n",
            "6  2022-12-14  6260.77  6260.77  6260.77  6260.77   -0.0017\n",
            "7  2022-12-15  6256.83  6256.83  6256.83  6256.83   -0.0006\n",
            "8  2022-12-19  6238.99  6238.99  6238.99  6238.99   -0.0029\n",
            "9  2022-12-20  6226.50  6226.50  6226.50  6226.50   -0.0020\n",
            "10 2022-12-21  6198.82  6198.82  6198.82  6198.82   -0.0044\n",
            "11 2022-12-22  6202.21  6202.21  6202.21  6202.21    0.0005\n",
            "12 2022-12-26  6189.70  6189.70  6189.70  6189.70   -0.0020\n",
            "13 2022-12-27  6180.27  6180.27  6180.27  6180.27   -0.0015\n",
            "14 2022-12-28  6195.82  6195.82  6195.82  6195.82    0.0025\n",
            "15 2022-12-29  6206.81  6206.81  6206.81  6206.81    0.0018\n",
            "16 2023-01-02  6177.88  6177.88  6177.88  6177.88   -0.0047\n",
            "17 2023-01-03  6185.06  6185.06  6185.06  6185.06    0.0012\n",
            "18 2023-01-04  6202.63  6202.63  6202.63  6202.63    0.0028\n",
            "19 2023-01-05  6193.96  6193.96  6193.96  6193.96   -0.0014\n"
          ]
        }
      ]
    },
    {
      "cell_type": "markdown",
      "metadata": {
        "id": "GrvrLblxkz42"
      },
      "source": [
        "### Getting the predicted stock price of 2017"
      ]
    },
    {
      "cell_type": "code",
      "metadata": {
        "id": "emikTvUpk3Ck",
        "colab": {
          "base_uri": "https://localhost:8080/"
        },
        "outputId": "d7cc7317-0b1f-4d72-a25c-b01f2e30a86e"
      },
      "source": [
        "dataset_total = pd.concat((dataset_train['Open'], dataset_test['Open']), axis = 0)\n",
        "inputs = dataset_total[len(dataset_total) - len(dataset_test) - 60:].values\n",
        "inputs = inputs.reshape(-1,1)\n",
        "inputs = sc.transform(inputs)\n",
        "X_test = []\n",
        "for i in range(60, 80):\n",
        "    X_test.append(inputs[i-60:i, 0])\n",
        "X_test = np.array(X_test)\n",
        "X_test = np.reshape(X_test, (X_test.shape[0], X_test.shape[1], 1))\n",
        "predicted_stock_price = regressor.predict(X_test)\n",
        "predicted_stock_price = sc.inverse_transform(predicted_stock_price)"
      ],
      "execution_count": null,
      "outputs": [
        {
          "output_type": "stream",
          "name": "stdout",
          "text": [
            "1/1 [==============================] - 0s 38ms/step\n"
          ]
        }
      ]
    },
    {
      "cell_type": "code",
      "source": [
        "print(X_test)"
      ],
      "metadata": {
        "id": "_z76TbcamSBf"
      },
      "execution_count": null,
      "outputs": []
    },
    {
      "cell_type": "markdown",
      "metadata": {
        "id": "iFTNs3YHk6FQ"
      },
      "source": [
        "### Visualising the results"
      ]
    },
    {
      "cell_type": "code",
      "metadata": {
        "id": "8OUI8U49k9tH",
        "colab": {
          "base_uri": "https://localhost:8080/",
          "height": 295
        },
        "outputId": "7200a491-5839-487a-9054-2cdc584edb05"
      },
      "source": [
        "plt.plot(real_stock_price, color = 'red', label = 'Real DSEX Price')\n",
        "plt.plot(predicted_stock_price, color = 'blue', label = 'Predicted DSEX Price')\n",
        "plt.title('DSEX Price Prediction')\n",
        "plt.xlabel('Time')\n",
        "plt.ylabel('DSEX Stock Price')\n",
        "plt.legend()\n",
        "plt.show()"
      ],
      "execution_count": null,
      "outputs": [
        {
          "output_type": "display_data",
          "data": {
            "text/plain": [
              "<Figure size 432x288 with 1 Axes>"
            ],
            "image/png": "[encoded data removed]"
          },
          "metadata": {
            "needs_background": "light"
          }
        }
      ]
    }
  ]
}